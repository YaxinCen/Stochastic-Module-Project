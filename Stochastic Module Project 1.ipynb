{
 "cells": [
  {
   "cell_type": "code",
   "execution_count": 1,
   "metadata": {},
   "outputs": [],
   "source": [
    "import numpy as np\n",
    "from scipy.stats import norm\n",
    "import pandas as pd"
   ]
  },
  {
   "cell_type": "markdown",
   "metadata": {},
   "source": [
    "1.Black-Scholes model\n",
    "\n",
    "Vanilla call/put"
   ]
  },
  {
   "cell_type": "code",
   "execution_count": 2,
   "metadata": {},
   "outputs": [],
   "source": [
    "def BSCall(S, K, r, sigma, T):\n",
    "    d1 = (np.log(S/K)+(r+sigma**2/2)*T) / (sigma*np.sqrt(T))\n",
    "    d2 = d1 - sigma*np.sqrt(T)\n",
    "    return S*norm.cdf(d1) - K*np.exp(-r*T)*norm.cdf(d2)"
   ]
  },
  {
   "cell_type": "code",
   "execution_count": 3,
   "metadata": {},
   "outputs": [],
   "source": [
    "def BSPut(S, K, r, sigma, T):\n",
    "    d1 = (np.log(S/K)+(r+sigma**2/2)*T) / (sigma*np.sqrt(T))\n",
    "    d2 = d1 - sigma*np.sqrt(T)\n",
    "    return K*np.exp(-r*T)*norm.cdf(-d2) - S*norm.cdf(-d1)"
   ]
  },
  {
   "cell_type": "markdown",
   "metadata": {},
   "source": [
    "Digital cash-or-nothing call/put"
   ]
  },
  {
   "cell_type": "code",
   "execution_count": 4,
   "metadata": {},
   "outputs": [],
   "source": [
    "def BSCashCall(S, K, r, sigma, T):\n",
    "    d1 = (np.log(S/K)+(r+sigma**2/2)*T) / (sigma*np.sqrt(T))\n",
    "    d2 = d1 - sigma*np.sqrt(T)\n",
    "    return norm.cdf(d2)"
   ]
  },
  {
   "cell_type": "code",
   "execution_count": 5,
   "metadata": {},
   "outputs": [],
   "source": [
    "def BSCashPut(S, K, r, sigma, T):\n",
    "    d1 = (np.log(S/K)+(r+sigma**2/2)*T) / (sigma*np.sqrt(T))\n",
    "    d2 = d1 - sigma*np.sqrt(T)\n",
    "    return norm.cdf(-d2)"
   ]
  },
  {
   "cell_type": "markdown",
   "metadata": {},
   "source": [
    "Digital Asset-or-nothing call/put"
   ]
  },
  {
   "cell_type": "code",
   "execution_count": 6,
   "metadata": {},
   "outputs": [],
   "source": [
    "def BSAssetCall(S, K, r, sigma, T):\n",
    "    d1 = (np.log(S/K)+(r+sigma**2/2)*T) / (sigma*np.sqrt(T))\n",
    "    d2 = d1 - sigma*np.sqrt(T)\n",
    "    return S*norm.cdf(d1)"
   ]
  },
  {
   "cell_type": "code",
   "execution_count": 7,
   "metadata": {},
   "outputs": [],
   "source": [
    "def BSAssetPut(S, K, r, sigma, T):\n",
    "    d1 = (np.log(S/K)+(r+sigma**2/2)*T) / (sigma*np.sqrt(T))\n",
    "    d2 = d1 - sigma*np.sqrt(T)\n",
    "    return S*norm.cdf(-d1)"
   ]
  },
  {
   "cell_type": "markdown",
   "metadata": {},
   "source": [
    "2.Bacheliers model\n",
    "\n",
    "Vanilla call/put"
   ]
  },
  {
   "cell_type": "code",
   "execution_count": 8,
   "metadata": {},
   "outputs": [],
   "source": [
    "def BACall(S, K, sigma, T):\n",
    "    d=(S-K)/(S*sigma*np.sqrt(T))\n",
    "    return (S-K)*norm.cdf(d) + (S*sigma*np.sqrt(T))*norm.pdf(d)\n",
    "\n",
    "def BAPut(S, K, sigma, T):\n",
    "    d=(S-K)/(S*sigma*np.sqrt(T))\n",
    "    return (K-S)*norm.cdf(-d) + (S*sigma*np.sqrt(T))*norm.pdf(-d)"
   ]
  },
  {
   "cell_type": "markdown",
   "metadata": {},
   "source": [
    "Digital cash-or-nothing call/put"
   ]
  },
  {
   "cell_type": "code",
   "execution_count": 9,
   "metadata": {},
   "outputs": [],
   "source": [
    "def BACashCall(S, K, sigma, T):\n",
    "    d=(S-K)/(S*sigma*np.sqrt(T))\n",
    "    return norm.cdf(d)\n",
    "\n",
    "def BACashPut(S, K, sigma, T):\n",
    "    d=(S-K)/(S*sigma*np.sqrt(T))\n",
    "    return norm.cdf(-d)"
   ]
  },
  {
   "cell_type": "markdown",
   "metadata": {},
   "source": [
    "Digital Asset-or-nothing call/put"
   ]
  },
  {
   "cell_type": "code",
   "execution_count": 10,
   "metadata": {},
   "outputs": [],
   "source": [
    "def BAAssetCall(S, K, sigma, T):\n",
    "    d=(S-K)/(S*sigma*np.sqrt(T))\n",
    "    return S*norm.cdf(d)+S*sigma*np.sqrt(T)*norm.pdf(d)\n",
    "\n",
    "def BAAssetPut(S, K, sigma, T):\n",
    "    d=(S-K)/(S*sigma*np.sqrt(T))\n",
    "    return S*norm.cdf(-d)+S*sigma*np.sqrt(T)*norm.pdf(-d)"
   ]
  },
  {
   "cell_type": "markdown",
   "metadata": {},
   "source": [
    "3.Black76 model\n",
    "\n",
    "Vanilla call/put\n",
    "\n",
    "With $D(0,T)=e^{rT}$"
   ]
  },
  {
   "cell_type": "code",
   "execution_count": 11,
   "metadata": {},
   "outputs": [],
   "source": [
    "def BS76Call(F, K, r, sigma, T):\n",
    "    d1 = (np.log(F/K)+(sigma**2/2)*T) / (sigma*np.sqrt(T))\n",
    "    d2 = d1 - sigma*np.sqrt(T)\n",
    "    return F*np.exp(-r*T)*norm.cdf(d1) - K*np.exp(-r*T)*norm.cdf(d2)\n",
    "\n",
    "def BS76Put(F, K, r, sigma, T):\n",
    "    d1 = (np.log(F/K)+(sigma**2/2)*T) / (sigma*np.sqrt(T))\n",
    "    d2 = d1 - sigma*np.sqrt(T)\n",
    "    return K*np.exp(-r*T)*norm.cdf(-d2) - F*np.exp(-r*T)*norm.cdf(-d1)"
   ]
  },
  {
   "cell_type": "markdown",
   "metadata": {},
   "source": [
    "Digital cash-or-nothing call/put"
   ]
  },
  {
   "cell_type": "code",
   "execution_count": 12,
   "metadata": {},
   "outputs": [],
   "source": [
    "def BS76CashCall(F, K, r, sigma, T):\n",
    "    d1 = (np.log(F/K)+(sigma**2/2)*T) / (sigma*np.sqrt(T))\n",
    "    d2 = d1 - sigma*np.sqrt(T)\n",
    "    return np.exp(-r*T)*norm.cdf(d2)\n",
    "\n",
    "def BS76CashPut(F, K, r, sigma, T):\n",
    "    d1 = (np.log(F/K)+(sigma**2/2)*T) / (sigma*np.sqrt(T))\n",
    "    d2 = d1 - sigma*np.sqrt(T)\n",
    "    return np.exp(-r*T)*norm.cdf(-d2)"
   ]
  },
  {
   "cell_type": "markdown",
   "metadata": {},
   "source": [
    "Digital Asset-or-nothing call/put"
   ]
  },
  {
   "cell_type": "code",
   "execution_count": 13,
   "metadata": {},
   "outputs": [],
   "source": [
    "def BS76AssetCall(F, K, r, sigma, T):\n",
    "    d1 = (np.log(F/K)+(sigma**2/2)*T) / (sigma*np.sqrt(T))\n",
    "    d2 = d1 - sigma*np.sqrt(T)\n",
    "    return F*np.exp(-r*T)*norm.cdf(d1)\n",
    "\n",
    "def BS76AssetPut(F, K, r, sigma, T):\n",
    "    d1 = (np.log(F/K)+(sigma**2/2)*T) / (sigma*np.sqrt(T))\n",
    "    d2 = d1 - sigma*np.sqrt(T)\n",
    "    return F*np.exp(-r*T)*norm.cdf(-d1)"
   ]
  },
  {
   "cell_type": "markdown",
   "metadata": {},
   "source": [
    "4.Displaced-diffusion model\n",
    "\n",
    "Vanilla call/put\n",
    "\n",
    "With $D(0,T)=e^{rT}$"
   ]
  },
  {
   "cell_type": "code",
   "execution_count": 14,
   "metadata": {},
   "outputs": [],
   "source": [
    "def DDCall(F, K, r, sigma, T, beta):\n",
    "    F=F/beta\n",
    "    K=K+(1-beta)*F\n",
    "    sigma=beta*sigma\n",
    "    d1 = (np.log(F/K)+(sigma**2/2)*T) / (sigma*np.sqrt(T))\n",
    "    d2 = d1 - sigma*np.sqrt(T)\n",
    "    return F*np.exp(-r*T)*norm.cdf(d1) - K*np.exp(-r*T)*norm.cdf(d2)\n",
    "\n",
    "def DDPut(F, K, r, sigma, T, beta):\n",
    "    F=F/beta\n",
    "    K=K+(1-beta)*F\n",
    "    sigma=beta*sigma\n",
    "    d1 = (np.log(F/K)+(sigma**2/2)*T) / (sigma*np.sqrt(T))\n",
    "    d2 = d1 - sigma*np.sqrt(T)\n",
    "    return K*np.exp(-r*T)*norm.cdf(-d2) - F*np.exp(-r*T)*norm.cdf(-d1)"
   ]
  },
  {
   "cell_type": "markdown",
   "metadata": {},
   "source": [
    "Digital cash-or-nothing call/put"
   ]
  },
  {
   "cell_type": "code",
   "execution_count": 15,
   "metadata": {},
   "outputs": [],
   "source": [
    "def DDCashCall(F, K, r, sigma, T, beta):\n",
    "    F=F/beta\n",
    "    K=K+(1-beta)*F\n",
    "    sigma=beta*sigma\n",
    "    d1 = (np.log(F/K)+(sigma**2/2)*T) / (sigma*np.sqrt(T))\n",
    "    d2 = d1 - sigma*np.sqrt(T)\n",
    "    return np.exp(-r*T)*norm.cdf(d2)\n",
    "\n",
    "def DDCashPut(F, K, r, sigma, T, beta):\n",
    "    F=F/beta\n",
    "    K=K+(1-beta)*F\n",
    "    sigma=beta*sigma\n",
    "    d1 = (np.log(F/K)+(sigma**2/2)*T) / (sigma*np.sqrt(T))\n",
    "    d2 = d1 - sigma*np.sqrt(T)\n",
    "    return np.exp(-r*T)*norm.cdf(-d2)"
   ]
  },
  {
   "cell_type": "markdown",
   "metadata": {},
   "source": [
    "Digital Asset-or-nothing call/put"
   ]
  },
  {
   "cell_type": "code",
   "execution_count": 16,
   "metadata": {},
   "outputs": [],
   "source": [
    "def DDAssetCall(F, K, r, sigma, T, beta):\n",
    "    F=F/beta\n",
    "    K=K+(1-beta)*F\n",
    "    sigma=beta*sigma\n",
    "    d1 = (np.log(F/K)+(sigma**2/2)*T) / (sigma*np.sqrt(T))\n",
    "    d2 = d1 - sigma*np.sqrt(T)\n",
    "    return F*np.exp(-r*T)*norm.cdf(d1)\n",
    "\n",
    "def DDAssetPut(F, K, r, sigma, T, beta):\n",
    "    F=F/beta\n",
    "    K=K+(1-beta)*F\n",
    "    sigma=beta*sigma\n",
    "    d1 = (np.log(F/K)+(sigma**2/2)*T) / (sigma*np.sqrt(T))\n",
    "    d2 = d1 - sigma*np.sqrt(T)\n",
    "    return F*np.exp(-r*T)*norm.cdf(-d1)"
   ]
  },
  {
   "cell_type": "code",
   "execution_count": 17,
   "metadata": {},
   "outputs": [],
   "source": [
    "S = 100.0\n",
    "F = 100\n",
    "r = 0.05\n",
    "T = 1\n",
    "K = 105\n",
    "beta=0.7\n",
    "sigma = 0.2"
   ]
  },
  {
   "cell_type": "code",
   "execution_count": 18,
   "metadata": {},
   "outputs": [
    {
     "name": "stdout",
     "output_type": "stream",
     "text": [
      "BS Call price: 8.0214\n",
      "BS Put price: 7.9004\n",
      "BS Cash Call price: 0.4626\n",
      "BS Cash Put price: 0.5374\n",
      "BS Asset Call price: 54.2228\n",
      "BS Asset Put price: 45.7772\n"
     ]
    }
   ],
   "source": [
    "print('BS Call price: %.4f' % BSCall(S, K, r, sigma, T))\n",
    "print('BS Put price: %.4f' % BSPut(S, K, r, sigma, T))\n",
    "print('BS Cash Call price: %.4f' % BSCashCall(S, K, r, sigma, T))\n",
    "print('BS Cash Put price: %.4f' % BSCashPut(S, K, r, sigma, T))\n",
    "print('BS Asset Call price: %.4f' % BSAssetCall(S, K, r, sigma, T))\n",
    "print('BS Asset Put price: %.4f' % BSAssetPut(S, K, r, sigma, T))"
   ]
  },
  {
   "cell_type": "code",
   "execution_count": 19,
   "metadata": {},
   "outputs": [
    {
     "name": "stdout",
     "output_type": "stream",
     "text": [
      "BA Call price: 5.7269\n",
      "BA Put price: 10.7269\n",
      "BA Cash Call price: 0.4013\n",
      "BA Cash Put price: 0.5987\n",
      "BA Asset Call price: 47.8627\n",
      "BA Asset Put price: 67.6040\n"
     ]
    }
   ],
   "source": [
    "print('BA Call price: %.4f' % BACall(S, K, sigma, T))\n",
    "print('BA Put price: %.4f' % BAPut(S, K, sigma, T))\n",
    "print('BA Cash Call price: %.4f' % BACashCall(S, K, sigma, T))\n",
    "print('BA Cash Put price: %.4f' % BACashPut(S, K, sigma, T))\n",
    "print('BA Asset Call price: %.4f' % BAAssetCall(S, K, sigma, T))\n",
    "print('BA Asset Put price: %.4f' % BAAssetPut(S, K, sigma, T))"
   ]
  },
  {
   "cell_type": "code",
   "execution_count": 20,
   "metadata": {},
   "outputs": [
    {
     "name": "stdout",
     "output_type": "stream",
     "text": [
      "BS76 Call price: 5.6176\n",
      "BS76 Put price: 10.3737\n",
      "BS76 Cash Call price: 0.3476\n",
      "BS76 Cash Put price: 0.6036\n",
      "BS76 Asset Call price: 42.1176\n",
      "BS76 Asset Put price: 53.0054\n"
     ]
    }
   ],
   "source": [
    "print('BS76 Call price: %.4f' % BS76Call(F, K, r, sigma, T))\n",
    "print('BS76 Put price: %.4f' % BS76Put(F, K, r, sigma, T))\n",
    "print('BS76 Cash Call price: %.4f' % BS76CashCall(F, K, r, sigma, T))\n",
    "print('BS76 Cash Put price: %.4f' % BS76CashPut(F, K, r, sigma, T))\n",
    "print('BS76 Asset Call price: %.4f' % BS76AssetCall(F, K, r, sigma, T))\n",
    "print('BS76 Asset Put price: %.4f' % BS76AssetPut(F, K, r, sigma, T))"
   ]
  },
  {
   "cell_type": "code",
   "execution_count": 21,
   "metadata": {},
   "outputs": [
    {
     "name": "stdout",
     "output_type": "stream",
     "text": [
      "DD Call price: 5.5695\n",
      "DD Put price: 10.3257\n",
      "DD Cash Call price: 0.3578\n",
      "DD Cash Put price: 0.5935\n",
      "DD Asset Call price: 58.4673\n",
      "DD Asset Put price: 77.4226\n"
     ]
    }
   ],
   "source": [
    "print('DD Call price: %.4f' % DDCall(F, K, r, sigma, T, beta))\n",
    "print('DD Put price: %.4f' % DDPut(F, K, r, sigma, T, beta))\n",
    "print('DD Cash Call price: %.4f' % DDCashCall(F, K, r, sigma, T, beta))\n",
    "print('DD Cash Put price: %.4f' % DDCashPut(F, K, r, sigma, T, beta))\n",
    "print('DD Asset Call price: %.4f' % DDAssetCall(F, K, r, sigma, T, beta))\n",
    "print('DD Asset Put price: %.4f' % DDAssetPut(F, K, r, sigma, T, beta))"
   ]
  }
 ],
 "metadata": {
  "kernelspec": {
   "display_name": "Python 3",
   "language": "python",
   "name": "python3"
  },
  "language_info": {
   "codemirror_mode": {
    "name": "ipython",
    "version": 3
   },
   "file_extension": ".py",
   "mimetype": "text/x-python",
   "name": "python",
   "nbconvert_exporter": "python",
   "pygments_lexer": "ipython3",
   "version": "3.7.1"
  }
 },
 "nbformat": 4,
 "nbformat_minor": 2
}
